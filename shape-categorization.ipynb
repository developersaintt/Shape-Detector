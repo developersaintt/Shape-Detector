{
 "cells": [
  {
   "cell_type": "markdown",
   "metadata": {},
   "source": [
    "# Shape Detection\n",
    "\n",
    "#### A certain inspection application gathers black & white images of parts as they travel along a conveyor belt. It is necessary to sort the parts into following categories:\n",
    "<ol>\n",
    "    <li> Circular parts</li>\n",
    "    <li> Rectangular parts</li>\n",
    "    <li> Square parts</li>\n",
    "    <li> Holes </li>\n",
    "    </ol>\n",
    "    \n",
    "#### An example of an image that might be taken by the inspection camera is given. Propose a method to identify and locate the objects of each category in the image so that they can be picked up by a robotic system and placed in different bins. Assume that the imaging system knows where each image pixel is located on the conveyor belt at every point in time"
   ]
  },
  {
   "cell_type": "code",
   "execution_count": 4,
   "metadata": {},
   "outputs": [],
   "source": [
    "#importing libraries\n",
    "import cv2\n",
    "import numpy as np\n",
    "from matplotlib import pyplot as plt\n",
    "%matplotlib inline"
   ]
  },
  {
   "cell_type": "code",
   "execution_count": 5,
   "metadata": {},
   "outputs": [
    {
     "name": "stdout",
     "output_type": "stream",
     "text": [
      "Current size: [6.0, 4.0]\n"
     ]
    }
   ],
   "source": [
    "# setting the figure sizes. You can skip this cell if you want \n",
    "# but if you want to see larger images that will be easy to comprehend\n",
    "# I suggest that you should run this cell\n",
    "\n",
    "# Get current size\n",
    "fig_size = plt.rcParams[\"figure.figsize\"]\n",
    " \n",
    "# Prints: [8.0, 6.0]\n",
    "print (\"Current size:\", fig_size)\n",
    " \n",
    "# Set figure width to 12 and height to 9\n",
    "fig_size[0] = 16\n",
    "fig_size[1] = 9\n",
    "plt.rcParams[\"figure.figsize\"] = fig_size"
   ]
  },
  {
   "cell_type": "code",
   "execution_count": 19,
   "metadata": {},
   "outputs": [
    {
     "data": {
      "text/plain": [
       "(<Figure size 1152x648 with 1 Axes>,\n",
       " <matplotlib.image.AxesImage at 0x2374d09d860>,\n",
       " Text(0.5, 1.0, 'Shapes Determined'),\n",
       " (-0.5, 383.5, 330.5, -0.5))"
      ]
     },
     "execution_count": 19,
     "metadata": {},
     "output_type": "execute_result"
    },
    {
     "data": {
      "image/png": "[encoded data removed]",
      "text/plain": [
       "<Figure size 1152x648 with 1 Axes>"
      ]
     },
     "metadata": {
      "needs_background": "light"
     },
     "output_type": "display_data"
    },
    {
     "data": {
      "image/png": "[encoded data removed]",
      "text/plain": [
       "<Figure size 1152x648 with 1 Axes>"
      ]
     },
     "metadata": {
      "needs_background": "light"
     },
     "output_type": "display_data"
    }
   ],
   "source": [
    "img = cv2.imread(\"images/input_image.png\")\n",
    "ccc = []\n",
    "img2 = cv2.cvtColor(img,cv2.COLOR_BGR2GRAY)\n",
    "contours, hierarchy = cv2.findContours(img2,cv2.RETR_TREE,cv2.CHAIN_APPROX_SIMPLE)\n",
    "output = cv2.drawContours(img,contours,-1,(0,255,0),2)\n",
    "\n",
    "for c in contours:\n",
    "    M = cv2.moments(c)\n",
    "    \n",
    "    cX = int(M[\"m10\"] / M[\"m00\"])\n",
    "    cY = int(M[\"m01\"] / M[\"m00\"])\n",
    "    ccc.append([cX,cY])\n",
    "    approx = cv2.approxPolyDP(c,0.01*cv2.arcLength(c,True),True)\n",
    "    if len(approx)==4:\n",
    "        (x, y, w, h) = cv2.boundingRect(approx)\n",
    "        if  ((float(w)/h)>0.9 and (float(w)/h)<1.1):\n",
    "            cv2.putText(img2, \"s\", (cX, cY), cv2.FONT_HERSHEY_SIMPLEX, 0.7, 0, 1)\n",
    "        else:\n",
    "            cv2.putText(img2, \"r\", (cX, cY), cv2.FONT_HERSHEY_SIMPLEX, 0.7, 0, 1)\n",
    "    \n",
    "    elif len(approx) > 6:\n",
    "        if cv2.contourArea(c)<100:\n",
    "            cv2.putText(img2, \"h\", (cX, cY),cv2.FONT_HERSHEY_SIMPLEX, 0.5, (0, 0, 255), 1)\n",
    "        else:\n",
    "            cv2.putText(img2, \"c\", (cX, cY),cv2.FONT_HERSHEY_SIMPLEX, 0.5, (0, 0, 255), 1)\n",
    "    \n",
    "\n",
    "plt.figure(2),plt.imshow(output),plt.title('Shapes Detected'),plt.axis('off')\n",
    "plt.figure(1),plt.imshow(img2),plt.title('Shapes Determined'),plt.axis('off')\n"
   ]
  },
  {
   "cell_type": "code",
   "execution_count": null,
   "metadata": {},
   "outputs": [],
   "source": []
  }
 ],
 "metadata": {
  "kernelspec": {
   "display_name": "Python 3",
   "language": "python",
   "name": "python3"
  },
  "language_info": {
   "codemirror_mode": {
    "name": "ipython",
    "version": 3
   },
   "file_extension": ".py",
   "mimetype": "text/x-python",
   "name": "python",
   "nbconvert_exporter": "python",
   "pygments_lexer": "ipython3",
   "version": "3.7.3"
  }
 },
 "nbformat": 4,
 "nbformat_minor": 2
}
